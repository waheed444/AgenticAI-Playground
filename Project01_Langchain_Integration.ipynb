{
  "nbformat": 4,
  "nbformat_minor": 0,
  "metadata": {
    "colab": {
      "provenance": [],
      "authorship_tag": "ABX9TyOGqH3woNK9oyhpYrfuNSZ4",
      "include_colab_link": true
    },
    "kernelspec": {
      "name": "python3",
      "display_name": "Python 3"
    },
    "language_info": {
      "name": "python"
    }
  },
  "cells": [
    {
      "cell_type": "markdown",
      "metadata": {
        "id": "view-in-github",
        "colab_type": "text"
      },
      "source": [
        "<a href=\"https://colab.research.google.com/github/waheed444/AgenticAI-Playground/blob/main/Project01_Langchain_Integration.ipynb\" target=\"_parent\"><img src=\"https://colab.research.google.com/assets/colab-badge.svg\" alt=\"Open In Colab\"/></a>"
      ]
    },
    {
      "cell_type": "markdown",
      "source": [
        "### Configure the API Key"
      ],
      "metadata": {
        "id": "zyD2eo4PFbRW"
      }
    },
    {
      "cell_type": "code",
      "execution_count": 2,
      "metadata": {
        "colab": {
          "base_uri": "https://localhost:8080/"
        },
        "id": "-qrGsPvICtHo",
        "outputId": "a412e516-74c0-4522-bb97-840f05e6b5c0"
      },
      "outputs": [
        {
          "output_type": "stream",
          "name": "stdout",
          "text": [
            "API Key is  found\n"
          ]
        }
      ],
      "source": [
        "from google.colab import userdata\n",
        "GEMINI_API_KEY = userdata.get('GOOGLE_API_KEY')\n",
        "if(GEMINI_API_KEY):\n",
        "  print(\"API Key is  found\")\n",
        "else:\n",
        "  print(\"API Key is not found\")\n"
      ]
    },
    {
      "cell_type": "markdown",
      "source": [
        "### Install Prerequisites"
      ],
      "metadata": {
        "id": "KEZjL7X_GoLp"
      }
    },
    {
      "cell_type": "code",
      "source": [
        "!pip install -q -U langchain_google_genai\n"
      ],
      "metadata": {
        "id": "GxQRM05MGjby",
        "colab": {
          "base_uri": "https://localhost:8080/"
        },
        "outputId": "26de8603-3083-4a30-a7be-dc6ae8563f64"
      },
      "execution_count": 3,
      "outputs": [
        {
          "output_type": "stream",
          "name": "stdout",
          "text": [
            "\u001b[?25l   \u001b[90m━━━━━━━━━━━━━━━━━━━━━━━━━━━━━━━━━━━━━━━━\u001b[0m \u001b[32m0.0/41.3 kB\u001b[0m \u001b[31m?\u001b[0m eta \u001b[36m-:--:--\u001b[0m\r\u001b[2K   \u001b[90m━━━━━━━━━━━━━━━━━━━━━━━━━━━━━━━━━━━━━━━━\u001b[0m \u001b[32m41.3/41.3 kB\u001b[0m \u001b[31m1.4 MB/s\u001b[0m eta \u001b[36m0:00:00\u001b[0m\n",
            "\u001b[?25h"
          ]
        }
      ]
    },
    {
      "cell_type": "markdown",
      "source": [
        "### Import Libraries"
      ],
      "metadata": {
        "id": "B0FFBmu5Yi3g"
      }
    },
    {
      "cell_type": "code",
      "source": [
        "from langchain_google_genai import ChatGoogleGenerativeAI"
      ],
      "metadata": {
        "id": "woLNV1FMJQEj"
      },
      "execution_count": 4,
      "outputs": []
    },
    {
      "cell_type": "markdown",
      "source": [
        "### Configure the gemini-1.5-flash Model"
      ],
      "metadata": {
        "id": "xW5wkcjwSakg"
      }
    },
    {
      "cell_type": "code",
      "source": [
        "llm = ChatGoogleGenerativeAI(\n",
        "    api_key = GEMINI_API_KEY,\n",
        "    model = \"gemini-1.5-flash\",\n",
        "    temperature=0.8,\n",
        "    token= 50\n",
        ")"
      ],
      "metadata": {
        "id": "f0K5RfzOJrAm"
      },
      "execution_count": 5,
      "outputs": []
    },
    {
      "cell_type": "markdown",
      "source": [
        "### Generate Response using Gemini Flash"
      ],
      "metadata": {
        "id": "UkZv8s6yG8L4"
      }
    },
    {
      "cell_type": "code",
      "source": [
        "response = llm.invoke(\"What is the most demanding skills in 2025\")\n",
        "\n",
        "if response:\n",
        "    paragraph_response = \" \".join(response.content.split())\n",
        "    print(paragraph_response)\n",
        "else:\n",
        "    print(\"No response received.\")"
      ],
      "metadata": {
        "id": "zq_M5hDFG7X3",
        "colab": {
          "base_uri": "https://localhost:8080/"
        },
        "outputId": "eb302191-3771-42e7-e2e3-243e7dc01053"
      },
      "execution_count": 6,
      "outputs": [
        {
          "output_type": "stream",
          "name": "stdout",
          "text": [
            "Predicting the *most* demanding skills in 2025 is difficult, as the job market is constantly evolving. However, several skill categories are consistently highlighted as crucial and likely to be in high demand: **1. Artificial Intelligence (AI) & Data Science Related Skills:** * **AI/ML Engineering:** Building, deploying, and maintaining AI and machine learning models. This goes beyond just knowing algorithms; it involves practical implementation, optimization, and deployment in real-world systems. * **Data Science & Analytics:** Extracting insights from large datasets, building predictive models, and communicating findings effectively. This includes proficiency in programming languages like Python or R, statistical modeling, and data visualization. * **Data Engineering:** Building and maintaining the infrastructure for data storage, processing, and analysis. This involves expertise in databases, cloud computing, and big data technologies. **2. Cybersecurity Skills:** * **Cybersecurity Analysts:** Identifying, assessing, and mitigating cybersecurity threats. This requires a deep understanding of network security, vulnerability management, and incident response. * **Ethical Hacking & Penetration Testing:** Simulating cyberattacks to identify vulnerabilities and improve security posture. * **Cloud Security:** Protecting data and applications in cloud environments. **3. Cloud Computing Skills:** * **Cloud Architects:** Designing and implementing cloud-based infrastructure. * **Cloud Engineers:** Managing and maintaining cloud environments. Expertise in specific cloud platforms (AWS, Azure, GCP) is crucial. * **DevOps Engineers:** Bridging the gap between software development and IT operations to automate and streamline software deployment and management. **4. Software Development & Engineering Skills (with a focus on specific areas):** * **Full-Stack Development:** Proficiency in both front-end and back-end development. This continues to be highly sought after, but specialization within this area (e.g., mobile app development, specific frameworks) is also beneficial. * **Software Engineering specializing in specific domains:** Medical software, Fintech, etc. Domain knowledge combined with strong development skills will be increasingly valuable. **5. Critical Thinking, Problem-Solving, and Communication Skills:** These \"soft skills\" remain consistently vital regardless of the specific technical skills. The ability to analyze complex situations, devise creative solutions, and communicate effectively is essential across all industries. **Important Note:** The \"most demanding\" skills will also vary significantly by industry and specific job role. The above list represents broad categories. Focusing on a niche area within these broader categories can be a strategic advantage. For example, instead of just \"data science,\" focusing on \"AI-powered fraud detection in the financial sector\" makes you a more targeted and valuable candidate.\n"
          ]
        }
      ]
    }
  ]
}