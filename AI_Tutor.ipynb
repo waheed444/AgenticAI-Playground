{
  "nbformat": 4,
  "nbformat_minor": 0,
  "metadata": {
    "colab": {
      "provenance": [],
      "authorship_tag": "ABX9TyNWnMCpp1/FbYjOkHwBzC6i",
      "include_colab_link": true
    },
    "kernelspec": {
      "name": "python3",
      "display_name": "Python 3"
    },
    "language_info": {
      "name": "python"
    }
  },
  "cells": [
    {
      "cell_type": "markdown",
      "metadata": {
        "id": "view-in-github",
        "colab_type": "text"
      },
      "source": [
        "<a href=\"https://colab.research.google.com/github/waheed444/AgenticAI-Playground/blob/main/AI_Tutor.ipynb\" target=\"_parent\"><img src=\"https://colab.research.google.com/assets/colab-badge.svg\" alt=\"Open In Colab\"/></a>"
      ]
    },
    {
      "cell_type": "code",
      "source": [
        "!pip install -q google-cloud-translate google-cloud-language langchain langchain_google_genai google-generativeai"
      ],
      "metadata": {
        "id": "OnpTip-Rl7w8"
      },
      "execution_count": 27,
      "outputs": []
    },
    {
      "cell_type": "code",
      "source": [
        "import os\n",
        "from google.colab import userdata\n",
        "from google.cloud import translate_v2 as translate\n",
        "from google.cloud import language_v1\n",
        "from langchain_google_genai import ChatGoogleGenerativeAI\n",
        "from langchain.chains import LLMChain\n",
        "from langchain.prompts import PromptTemplate"
      ],
      "metadata": {
        "id": "INZF_o5jmGtF"
      },
      "execution_count": 28,
      "outputs": []
    },
    {
      "cell_type": "code",
      "source": [
        "# Set up Google Cloud API key\n",
        "GOOGLE_API_KEY = userdata.get('GOOGLE_API_KEY')\n",
        "if not GOOGLE_API_KEY:\n",
        "    raise ValueError(\"Please set the 'GOOGLE_API_KEY' in Colab user data.\")\n",
        "\n",
        "os.environ[\"GOOGLE_API_KEY\"] = GOOGLE_API_KEY"
      ],
      "metadata": {
        "id": "Y46IIglbmHYX"
      },
      "execution_count": 29,
      "outputs": []
    },
    {
      "cell_type": "code",
      "source": [
        "# Initialize clients\n",
        "translate_client = translate.Client()\n",
        "language_client = language_v1.LanguageServiceClient()\n"
      ],
      "metadata": {
        "id": "qtZ0Cs4JmHST"
      },
      "execution_count": 30,
      "outputs": []
    },
    {
      "cell_type": "code",
      "source": [
        "# Initialize Gemini model\n",
        "llm = ChatGoogleGenerativeAI(model=\"gemini-pro\", temperature=0.7)"
      ],
      "metadata": {
        "id": "akYO835mmHJN"
      },
      "execution_count": 52,
      "outputs": []
    },
    {
      "cell_type": "markdown",
      "source": [
        "## Update this PromptTemplate to generate your required response."
      ],
      "metadata": {
        "id": "7FAVbJcC9IB3"
      }
    },
    {
      "cell_type": "code",
      "source": [
        "definition_prompt = PromptTemplate(\n",
        "    input_variables=[\"word\"],\n",
        "    template=\"\"\"You are a language expert. Provide a detailed yet concise definition for the word or phrase: {word}.\n",
        "\n",
        "    - Start with a clear, simple definition (around 45-50 tokens), easy to understand for learners.\n",
        "    - List any relevant **synonyms** and **antonyms** for the word.\n",
        "    - Provide an **example sentence** using the word to demonstrate its proper usage in context.\n",
        "    \"\"\"\n",
        ")\n",
        "\n",
        "\n",
        "vocabulary_grammar_prompt = PromptTemplate(\n",
        "    input_variables=[\"text\"],\n",
        "    template=\"\"\"You are a language expert. Analyze the following text for vocabulary usage, grammar, and correctness:\n",
        "\n",
        "    Text: {text}\n",
        "\n",
        "    Please provide:\n",
        "    1. **Vocabulary**:\n",
        "        - For each word in the text relevant **synonyms** and **antonyms**.\n",
        "\n",
        "    2. **Grammar**:\n",
        "        - Identify any notable grammatical structures used, such as verb tenses, sentence types, clauses, or punctuation choices.\n",
        "\n",
        "    3. **Corrections**:\n",
        "        - Review the text for any **grammar or vocabulary errors** and suggest improvements where necessary.\n",
        "    \"\"\"\n",
        ")\n"
      ],
      "metadata": {
        "id": "Xg0xya6L6_IM"
      },
      "execution_count": 71,
      "outputs": []
    },
    {
      "cell_type": "code",
      "source": [
        "# Create LangChain chains\n",
        "definition_chain = LLMChain(llm=llm, prompt=definition_prompt)\n",
        "vocabulary_grammar_chain = LLMChain(llm=llm, prompt=vocabulary_grammar_prompt)"
      ],
      "metadata": {
        "id": "owCSj8nG-vzW"
      },
      "execution_count": 74,
      "outputs": []
    },
    {
      "cell_type": "code",
      "source": [
        "def translate_to_urdu(text):\n",
        "    \"\"\"Translate text to Urdu.\"\"\"\n",
        "    try:\n",
        "        result = translate_client.translate(text, target_language='ur')\n",
        "        return result['translatedText']\n",
        "    except Exception as e:\n",
        "        return f\"Translation error: {str(e)}\"\n",
        "\n",
        "def get_pronunciation(text):\n",
        "    \"\"\"Get pronunciation of text.\"\"\"\n",
        "    # Note: This is a placeholder. Actual pronunciation API would be needed for accurate results.\n",
        "    return f\"Pronunciation for '{text}' is not available in this demo version.\"\n",
        "\n",
        "def get_definition(text):\n",
        "    \"\"\"Get definition of word or phrase.\"\"\"\n",
        "    return definition_chain.run(text)\n",
        "\n",
        "def analyze_vocabulary_and_grammar(text):\n",
        "    \"\"\"Analyze vocabulary and grammar of text.\"\"\"\n",
        "    return vocabulary_grammar_chain.run(text)\n",
        "\n",
        "def process_text(text):\n",
        "    \"\"\"Process the input text and return analysis results.\"\"\"\n",
        "\n",
        "    print(f\"Input text: {text}\\n\")\n",
        "\n",
        "    print(translate_to_urdu(text))\n",
        "    print()\n",
        "\n",
        "    print(get_pronunciation(text))\n",
        "    print()\n",
        "\n",
        "    print(get_definition(text))\n",
        "    print()\n",
        "\n",
        "    print(analyze_vocabulary_and_grammar(text))\n"
      ],
      "metadata": {
        "id": "DfjhOzQ3pxiL"
      },
      "execution_count": 80,
      "outputs": []
    },
    {
      "cell_type": "code",
      "source": [
        "# Interactive mode\n",
        "while True:\n",
        "    user_input = input(\"\\nEnter a word or sentence (or 'end' to exit): \")\n",
        "    if user_input.lower() == 'end':\n",
        "        break\n",
        "    process_text(user_input)"
      ],
      "metadata": {
        "colab": {
          "base_uri": "https://localhost:8080/"
        },
        "id": "eHqQOe83tT1M",
        "outputId": "8dee775e-bd69-434c-e424-ccef33582ddf"
      },
      "execution_count": 81,
      "outputs": [
        {
          "name": "stdout",
          "output_type": "stream",
          "text": [
            "\n",
            "Enter a word or sentence (or 'end' to exit): what is mean of ai?\n",
            "Input text: what is mean of ai?\n",
            "\n",
            "Translation error: (\"Failed to retrieve http://metadata.google.internal/computeMetadata/v1/instance/service-accounts/default/?recursive=true from the Google Compute Engine metadata service. Status: 404 Response:\\nb''\", <google.auth.transport.requests._Response object at 0x7c2e48664790>)\n",
            "\n",
            "Pronunciation for 'what is mean of ai?' is not available in this demo version.\n",
            "\n",
            "**Definition:**\n",
            "\n",
            "Artificial intelligence (AI) is a branch of computer science that aims to create machines that can perform tasks that typically require human intelligence, such as learning, problem-solving, and decision-making.\n",
            "\n",
            "**Synonyms:**\n",
            "\n",
            "* Machine intelligence\n",
            "* Computational intelligence\n",
            "* Cognitive computing\n",
            "\n",
            "**Antonyms:**\n",
            "\n",
            "* Human intelligence\n",
            "* Natural intelligence\n",
            "* Organic intelligence\n",
            "\n",
            "**Example Sentence:**\n",
            "\n",
            "\"Researchers are developing AI algorithms that can analyze massive datasets and identify patterns that humans might miss, leading to breakthroughs in fields like medicine and finance.\"\n",
            "\n",
            "**1. Vocabulary:**\n",
            "\n",
            "- **what**: synonym: which, that; antonym: none\n",
            "- **is**: synonym: exists; antonym: is not\n",
            "- **mean**: synonym: definition, significance; antonym: insignificance\n",
            "- **of**: synonym: concerning, about; antonym: none\n",
            "- **ai**: synonym: artificial intelligence; antonym: none\n",
            "\n",
            "**2. Grammar:**\n",
            "\n",
            "- **Sentence type**: interrogative (question)\n",
            "- **Verb tense**: present tense (is)\n",
            "- **Clauses**: simple sentence with no clauses\n",
            "- **Punctuation**: question mark at the end of the sentence\n",
            "\n",
            "**3. Corrections:**\n",
            "\n",
            "- The sentence contains a grammatical error: \"what is mean of ai?\" should be \"What is the meaning of AI?\"\n",
            "- The word \"ai\" should be capitalized as it is a proper noun.\n",
            "\n",
            "**Corrected text:**\n",
            "\n",
            "What is the meaning of AI?\n",
            "\n",
            "Enter a word or sentence (or 'end' to exit): end\n"
          ]
        }
      ]
    }
  ]
}