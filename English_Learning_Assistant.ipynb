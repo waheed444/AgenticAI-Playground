{
  "nbformat": 4,
  "nbformat_minor": 0,
  "metadata": {
    "colab": {
      "provenance": [],
      "authorship_tag": "ABX9TyOSLPeipaxXzm+eckG3fvUZ",
      "include_colab_link": true
    },
    "kernelspec": {
      "name": "python3",
      "display_name": "Python 3"
    },
    "language_info": {
      "name": "python"
    }
  },
  "cells": [
    {
      "cell_type": "markdown",
      "metadata": {
        "id": "view-in-github",
        "colab_type": "text"
      },
      "source": [
        "<a href=\"https://colab.research.google.com/github/waheed444/AgenticAI-Playground/blob/main/English_Learning_Assistant.ipynb\" target=\"_parent\"><img src=\"https://colab.research.google.com/assets/colab-badge.svg\" alt=\"Open In Colab\"/></a>"
      ]
    },
    {
      "cell_type": "markdown",
      "source": [
        "### Install Prerequisites"
      ],
      "metadata": {
        "id": "uKfoyH4SKHrp"
      }
    },
    {
      "cell_type": "code",
      "execution_count": 52,
      "metadata": {
        "id": "eyGYoDDeuof7"
      },
      "outputs": [],
      "source": [
        "!pip install -q langchain langchain_google_genai google-generativeai python-dotenv"
      ]
    },
    {
      "cell_type": "markdown",
      "source": [
        "### Set-up the Environment"
      ],
      "metadata": {
        "id": "qjERArIFKRSb"
      }
    },
    {
      "cell_type": "code",
      "source": [
        "import os\n",
        "from google.colab import userdata\n",
        "from langchain.chains import LLMChain\n",
        "from langchain.prompts import PromptTemplate\n",
        "from langchain_google_genai import ChatGoogleGenerativeAI"
      ],
      "metadata": {
        "id": "YqHs6GH74zIY"
      },
      "execution_count": 53,
      "outputs": []
    },
    {
      "cell_type": "markdown",
      "source": [
        "### Configure your API Key"
      ],
      "metadata": {
        "id": "AdQXlZrnKgLw"
      }
    },
    {
      "cell_type": "code",
      "source": [
        "GEMINI_API_KEY = userdata.get('Google_Api_2')\n",
        "if(GEMINI_API_KEY):\n",
        "  print(\"API Key is  found\")\n",
        "else:\n",
        "  print(\"API Key is not found\")"
      ],
      "metadata": {
        "colab": {
          "base_uri": "https://localhost:8080/"
        },
        "id": "c3XX7zTG4zFD",
        "outputId": "a9dee438-1320-4be4-cee7-9a369f36f06d"
      },
      "execution_count": 54,
      "outputs": [
        {
          "output_type": "stream",
          "name": "stdout",
          "text": [
            "API Key is  found\n"
          ]
        }
      ]
    },
    {
      "cell_type": "code",
      "source": [
        "os.environ[\"GOOGLE_API_KEY\"] = GEMINI_API_KEY"
      ],
      "metadata": {
        "id": "X2bDPgnT_Jv0"
      },
      "execution_count": 55,
      "outputs": []
    },
    {
      "cell_type": "markdown",
      "source": [
        "### Initialize Gemini model:"
      ],
      "metadata": {
        "id": "4zFDxt0YKoWD"
      }
    },
    {
      "cell_type": "code",
      "source": [
        "llm = ChatGoogleGenerativeAI(model=\"gemini-2.0-flash-exp\", temperature=0.7)"
      ],
      "metadata": {
        "id": "tvtitBPQ4y9a"
      },
      "execution_count": 56,
      "outputs": []
    },
    {
      "cell_type": "markdown",
      "source": [
        "###  Define a PromptTemplate to generate response:"
      ],
      "metadata": {
        "id": "Y2AEBEdeK1fs"
      }
    },
    {
      "cell_type": "code",
      "source": [
        "tutor_prompt = PromptTemplate(\n",
        "    input_variables=[\"text\"],\n",
        "    template = \"\"\"\n",
        "You are an English-to-Urdu language translation expert. Your goal is to provide accurate, context-sensitive translations while helping learners understand and apply the content effectively. Follow these detailed steps for each translation:\n",
        "\n",
        "### 1. **Translation**:\n",
        "   - Translate the following text into Urdu:\n",
        "     \"{text}\"\n",
        "   - Ensure the translation is:\n",
        "     - **Accurate**: Retain the original meaning and context of the text.\n",
        "     - **Culturally Appropriate**: Use expressions and terms that align with Urdu language norms and cultural sensibilities.\n",
        "     - **Formal or Informal**: Adjust the tone to match the intent of the original text (e.g., conversational, formal, poetic, etc.).\n",
        "\n",
        "### 2. **Pronunciation Guide**:\n",
        "   - Provide the **Roman Urdu pronunciation** of the translated text to help learners unfamiliar with the Urdu script.\n",
        "\n",
        "\n",
        "### 3. **Definition**:\n",
        "   If the input is one to three words, provide:\n",
        "   - A clear and simple definition and their **Urdu meanings**.\n",
        "   - One or two relevant synonyms and antonyms and their **Urdu meanings**.\n",
        "   - An example sentence to demonstrate proper usage in context.\n",
        "\n",
        "### 4. **Vocabulary and Phrase Analysis**:\n",
        "\n",
        "   - Break down the text into individual English words or key phrases and provide:\n",
        "     - Notes on usage, such as whether the word is formal, informal, or region-specific.\n",
        "\n",
        "### 5. **Grammar and Structure**:\n",
        "   - Identify notable grammatical structures in the text (e.g., verb tenses, clauses, sentence types) and explain how they are represented in Urdu.\n",
        "\n",
        "### 6. **Corrections**:\n",
        "    - Check for any grammar or vocabulary errors and suggest improvements.\n",
        "\n",
        "### Response Formatting:\n",
        "   - Organize your response into clear sections with headings (e.g., Translation, Pronunciation, Vocabulary, etc.).\n",
        "   - Use simple and concise language to ensure clarity.\n",
        "   - Adopt an encouraging tone to motivate learners in their Urdu language journey.\n",
        "\"\"\"\n",
        ")"
      ],
      "metadata": {
        "id": "mQWWeaaHCJ6g"
      },
      "execution_count": 57,
      "outputs": []
    },
    {
      "cell_type": "markdown",
      "source": [
        "###  Create langchain chains"
      ],
      "metadata": {
        "id": "F2Bil_nmLBTa"
      }
    },
    {
      "cell_type": "code",
      "source": [
        "translation_chain = LLMChain(llm=llm, prompt=tutor_prompt)"
      ],
      "metadata": {
        "id": "nGd03UBh8Usq"
      },
      "execution_count": 58,
      "outputs": []
    },
    {
      "cell_type": "markdown",
      "source": [
        "### Process text using the model:"
      ],
      "metadata": {
        "id": "y5oYzrmPLQwT"
      }
    },
    {
      "cell_type": "code",
      "source": [
        "def process_text_with_model(text):\n",
        "    \"\"\"Process the input text: Translate to Urdu and analyze in English.\"\"\"\n",
        "    # Translate text to Urdu\n",
        "    urdu_translation = translation_chain.run(text=text)\n",
        "    print(\"\\n**Translation to Urdu:**\")\n",
        "    print(urdu_translation)"
      ],
      "metadata": {
        "id": "y3pGwftL91ry"
      },
      "execution_count": 59,
      "outputs": []
    },
    {
      "cell_type": "markdown",
      "source": [
        "### Quering with English-to-Urdu Learning Assistant:"
      ],
      "metadata": {
        "id": "miTeyS3CLZJW"
      }
    },
    {
      "cell_type": "code",
      "source": [
        "def main():\n",
        "    print(\"Welcome to the English Language Assistant!\")\n",
        "    print(\"Type 'end' to exit.\\n\")\n",
        "    while True:\n",
        "        user_input = input(\"Enter a word or sentence: \")\n",
        "        if user_input.lower() == 'end':\n",
        "            print(\"Goodbye!\")\n",
        "            break\n",
        "        process_text_with_model(user_input)\n",
        "\n",
        "if __name__ == \"__main__\":\n",
        "    main()"
      ],
      "metadata": {
        "colab": {
          "base_uri": "https://localhost:8080/"
        },
        "id": "4rbiRyP6-A_B",
        "outputId": "0396d8ec-d8aa-495f-f8f3-2216f460a99f"
      },
      "execution_count": 62,
      "outputs": [
        {
          "output_type": "stream",
          "name": "stdout",
          "text": [
            "Welcome to the English Language Assistant!\n",
            "Type 'end' to exit.\n",
            "\n",
            "Enter a word or sentence: what mean of artificial intellgence?\n",
            "\n",
            "**Translation to Urdu:**\n",
            "Okay, let's break down this request and provide a comprehensive translation and learning experience!\n",
            "\n",
            "### 1. **Translation**\n",
            "\n",
            "The Urdu translation of \"what mean of artificial intelligence?\" is:\n",
            "\n",
            "**مصنوعی ذہانت سے کیا مراد ہے؟**\n",
            "\n",
            "### 2. **Pronunciation Guide**\n",
            "\n",
            "The Roman Urdu pronunciation is:\n",
            "\n",
            "**Masnooi zehanat se kya muraad hai?**\n",
            "\n",
            "### 3. **Definition**\n",
            "\n",
            "**Artificial Intelligence (مصنوعی ذہانت)**\n",
            "\n",
            "*   **Definition:** Artificial intelligence refers to the simulation of human intelligence in machines that are programmed to think like humans and mimic their actions.\n",
            "    **Urdu Meaning:**  مصنوعی ذہانت سے مراد ایسی مشینیں بنانا ہے جن میں انسانی ذہانت کی نقالی کی جا سکے۔\n",
            "\n",
            "*   **Synonyms (Urdu Meanings):**\n",
            "    *   **Machine Learning (مشینی تعلیم):** وہ عمل جس کے ذریعے کمپیوٹرز سیکھتے ہیں۔\n",
            "    *   **Computational Intelligence (حسابی ذہانت):** کمپیوٹرز کی ذہانت۔\n",
            "\n",
            "*   **Antonyms (Urdu Meanings):**\n",
            "    *   **Natural Intelligence (فطری ذہانت):** انسانوں اور جانوروں کی ذہانت۔\n",
            "    *   **Human Intellect (انسانی عقل):** انسانوں کی سمجھ بوجھ۔\n",
            "\n",
            "*   **Example Sentence:**\n",
            "     *   **English:**  \"Artificial intelligence is rapidly transforming various industries.\"\n",
            "     *   **Urdu:** \"مصنوعی ذہانت تیزی سے مختلف صنعتوں میں تبدیلیاں لا رہی ہے۔\"\n",
            "\n",
            "### 4. **Vocabulary and Phrase Analysis**\n",
            "\n",
            "*   **what:**  \n",
            "    *   **Urdu:** کیا (kya) - A common interrogative word.\n",
            "*   **mean:**\n",
            "    *   **Urdu:** مراد (muraad) - Meaning or intention. Usage is general and common.\n",
            "*   **of:**\n",
            "    *   **Urdu:** سے (se) - A preposition indicating 'from' or 'of' in this context.\n",
            "*  **artificial intelligence:**\n",
            "    *   **Urdu:** مصنوعی ذہانت (masnooi zehanat) -  This is a formal term.\n",
            "        *   **مصنوعی (masnooi):** artificial, man-made\n",
            "        *  **ذہانت (zehanat):** intelligence, intellect\n",
            "\n",
            "### 5. **Grammar and Structure**\n",
            "\n",
            "*   **English Structure:** The sentence is a question using \"what\" as an interrogative pronoun, followed by \"mean\" as the verb and \"of artificial intelligence\" as a prepositional phrase.\n",
            "*   **Urdu Structure:**\n",
            "    *   Urdu uses the interrogative word \"کیا (kya)\" to form the question.\n",
            "    *   The phrase \"مصنوعی ذہانت سے (masnooi zehanat se)\" acts as the subject, and \"مراد ہے (muraad hai)\" means \"is the meaning\".\n",
            "    *   The word order in Urdu is generally subject-object-verb, which is different from the English subject-verb-object order. However, in questions, the verb can come at the end or as per the sentence structure.\n",
            "*   **Key Grammatical Differences:**\n",
            "    *   Urdu uses postpositions (like \"سے\" (se)) instead of prepositions (like \"of\").\n",
            "    *   The verb \"ہے (hai)\" is used to indicate the present tense and is usually at the end of the sentence in a declarative statement or as per the sentence structure in questions.\n",
            "\n",
            "### 6. **Corrections**\n",
            "\n",
            "*   The original English sentence \"what mean of artificial intellgence?\" has two errors:\n",
            "    *   **Spelling Error:** \"intellgence\" should be \"intelligence\".\n",
            "    *   **Grammar Error:** The correct phrase should be \"what is the meaning of\" or \"what does 'artificial intelligence' mean\". The usage of 'mean' is not used correctly in the original sentence.\n",
            "\n",
            "    *  **Correct English Question:** \"What does 'artificial intelligence' mean?\" or \"What is the meaning of artificial intelligence?\"\n",
            "\n",
            "    *   **Correct Urdu Translation:**  **مصنوعی ذہانت سے کیا مراد ہے؟** (Masnooi zehanat se kya muraad hai?)\n",
            "\n",
            "**Encouragement for Learners:**\n",
            "\n",
            "Great job on taking the first step in understanding this important concept in Urdu! Remember, language learning is a journey. Keep practicing, and don't be afraid to ask questions. Your effort will definitely help you become more confident in your Urdu skills.\n",
            "Enter a word or sentence: end\n",
            "Goodbye!\n"
          ]
        }
      ]
    }
  ]
}