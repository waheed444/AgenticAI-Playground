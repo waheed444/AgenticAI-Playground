{
  "nbformat": 4,
  "nbformat_minor": 0,
  "metadata": {
    "colab": {
      "provenance": [],
      "authorship_tag": "ABX9TyNbsEXcp6CyFdukG4viMK97",
      "include_colab_link": true
    },
    "kernelspec": {
      "name": "python3",
      "display_name": "Python 3"
    },
    "language_info": {
      "name": "python"
    }
  },
  "cells": [
    {
      "cell_type": "markdown",
      "metadata": {
        "id": "view-in-github",
        "colab_type": "text"
      },
      "source": [
        "<a href=\"https://colab.research.google.com/github/waheed444/AgenticAI-Playground/blob/main/05_Video_Processing_%26_Caption_Generation.ipynb\" target=\"_parent\"><img src=\"https://colab.research.google.com/assets/colab-badge.svg\" alt=\"Open In Colab\"/></a>"
      ]
    },
    {
      "cell_type": "markdown",
      "source": [
        "### Install Prerequisites"
      ],
      "metadata": {
        "id": "OeniO_4nFwdC"
      }
    },
    {
      "cell_type": "code",
      "execution_count": 1,
      "metadata": {
        "id": "P19DRp8y8tQT",
        "colab": {
          "base_uri": "https://localhost:8080/"
        },
        "outputId": "dfc69dc4-856d-436c-d9f8-ee5d6937c791"
      },
      "outputs": [
        {
          "output_type": "stream",
          "name": "stdout",
          "text": [
            "\u001b[2K   \u001b[90m━━━━━━━━━━━━━━━━━━━━━━━━━━━━━━━━━━━━━━━━\u001b[0m \u001b[32m1.0/1.0 MB\u001b[0m \u001b[31m11.3 MB/s\u001b[0m eta \u001b[36m0:00:00\u001b[0m\n",
            "\u001b[2K   \u001b[90m━━━━━━━━━━━━━━━━━━━━━━━━━━━━━━━━━━━━━━━━\u001b[0m \u001b[32m411.6/411.6 kB\u001b[0m \u001b[31m18.5 MB/s\u001b[0m eta \u001b[36m0:00:00\u001b[0m\n",
            "\u001b[2K   \u001b[90m━━━━━━━━━━━━━━━━━━━━━━━━━━━━━━━━━━━━━━━━\u001b[0m \u001b[32m41.3/41.3 kB\u001b[0m \u001b[31m1.5 MB/s\u001b[0m eta \u001b[36m0:00:00\u001b[0m\n",
            "\u001b[?25h"
          ]
        }
      ],
      "source": [
        "!pip install -q -U langchain\n",
        "!pip install -q -U google-genai\n",
        "!pip install -q -U langchain-google-genai"
      ]
    },
    {
      "cell_type": "markdown",
      "source": [
        "### Configure your API Key"
      ],
      "metadata": {
        "id": "aztth06ZGAqz"
      }
    },
    {
      "cell_type": "code",
      "source": [
        "from google.colab import userdata\n",
        "GEMINI_API_KEY = userdata.get('Vedio_Process')\n",
        "if(GEMINI_API_KEY):\n",
        "  print(\"API Key is  found\")\n",
        "else:\n",
        "  print(\"API Key is not found\")"
      ],
      "metadata": {
        "colab": {
          "base_uri": "https://localhost:8080/"
        },
        "id": "xfqj96f0_AFN",
        "outputId": "d41c1cd9-5afc-4892-90f6-7b0846ec5b77"
      },
      "execution_count": 2,
      "outputs": [
        {
          "output_type": "stream",
          "name": "stdout",
          "text": [
            "API Key is  found\n"
          ]
        }
      ]
    },
    {
      "cell_type": "markdown",
      "source": [
        "### Import Libraries for **Google Generative AI** Integration"
      ],
      "metadata": {
        "id": "xONqlmPaGEsI"
      }
    },
    {
      "cell_type": "code",
      "source": [
        "from langchain_google_genai import ChatGoogleGenerativeAI\n",
        "from google.genai.types import Content , Part\n",
        "from IPython.display import Markdown,display"
      ],
      "metadata": {
        "id": "wy8MDwuo_Z9e"
      },
      "execution_count": 3,
      "outputs": []
    },
    {
      "cell_type": "markdown",
      "source": [
        "### Setup **gemini-2.0-flash-experimental** Model"
      ],
      "metadata": {
        "id": "25Nb-HwRGV5b"
      }
    },
    {
      "cell_type": "code",
      "source": [
        "llm = ChatGoogleGenerativeAI(\n",
        "    model = \"gemini-2.0-flash-exp\",\n",
        "    api_key= userdata.get(\"Vedio_Process\"),\n",
        "    temperature=0.7\n",
        ")"
      ],
      "metadata": {
        "id": "fCqlKwIi_eMg"
      },
      "execution_count": 4,
      "outputs": []
    },
    {
      "cell_type": "markdown",
      "source": [
        "### Downloading a file from Drive using **gdown**"
      ],
      "metadata": {
        "id": "FBy4veydGrqz"
      }
    },
    {
      "cell_type": "code",
      "source": [
        "import gdown\n",
        "url_1 = \"https://drive.google.com/uc?export=download&id=1HaV1CyCt8EV8sQWCPunkTcayy8DGFaYR\"\n",
        "output_path_1 = '/content/Tree.mp4'\n",
        "gdown.download(url_1, output_path_1, quiet=True)\n",
        "print(f\"Video downloaded successfully: {output_path_1}\")"
      ],
      "metadata": {
        "colab": {
          "base_uri": "https://localhost:8080/"
        },
        "id": "WWLK1-9aARJO",
        "outputId": "e20592a7-f92b-42df-9cc0-6aaa3b62952e"
      },
      "execution_count": 11,
      "outputs": [
        {
          "output_type": "stream",
          "name": "stdout",
          "text": [
            "Video downloaded successfully: /content/Tree.mp4\n"
          ]
        }
      ]
    },
    {
      "cell_type": "markdown",
      "source": [
        "### Uploading and processing a video file using **Google Generative AI Client**"
      ],
      "metadata": {
        "id": "jXYQeeGBHkUe"
      }
    },
    {
      "cell_type": "code",
      "source": [
        "import time\n",
        "from google import genai\n",
        "\n",
        "client = genai.Client(api_key=userdata.get(\"Vedio_Process\"))\n",
        "video_tree = \"/content/Tree.mp4\"\n",
        "\n",
        "def upload_video(video_file_name):\n",
        "  video_file = client.files.upload(path = video_file_name)\n",
        "  while video_file.state == \"PROCESSING\":\n",
        "    print(\"Video Is Being Processed , Kindly Wait!\")\n",
        "    time.sleep(10)\n",
        "    video_file = client.files.get(name = video_file.name or \"\")\n",
        "  if video_file.state == \"SUCCESS\":\n",
        "    pass\n",
        "  elif video_file.state == \"FAILED\":\n",
        "    raise ValueError(video_file.state)\n",
        "  print(f'Video processing complete: ' + (video_file.uri or \"\"))\n",
        "  return video_file"
      ],
      "metadata": {
        "id": "w2OvIiYSA1TN"
      },
      "execution_count": 17,
      "outputs": []
    },
    {
      "cell_type": "code",
      "source": [
        "video_tree = upload_video(video_tree)"
      ],
      "metadata": {
        "colab": {
          "base_uri": "https://localhost:8080/"
        },
        "id": "99tf7rvaBELp",
        "outputId": "d2dbc2e1-0732-48fa-ee72-96550d83bd24"
      },
      "execution_count": 18,
      "outputs": [
        {
          "output_type": "stream",
          "name": "stdout",
          "text": [
            "Video Is Being Processed , Kindly Wait!\n",
            "Video processing complete: https://generativelanguage.googleapis.com/v1beta/files/gbccfceliqb4\n"
          ]
        }
      ]
    },
    {
      "cell_type": "markdown",
      "source": [
        "### Analyse Video Scence and Generate Caption"
      ],
      "metadata": {
        "id": "z6QWAQQyId6z"
      }
    },
    {
      "cell_type": "code",
      "source": [
        "def analyze_video_with_langchain(video_file):\n",
        "  prompt_template = \"\"\"\n",
        "  For each scene in this video,\n",
        "  generate captions that describe the scene along with any spoken text placed in quotation marks.\n",
        "  Place each caption into an object with the timecode of the caption in the video.\n",
        "         \"\"\"\n",
        "\n",
        "  response = client.models.generate_content(\n",
        "    model=\"gemini-2.0-flash-exp\",\n",
        "    contents=[\n",
        "        Content(\n",
        "            role=\"user\",\n",
        "            parts=[\n",
        "                Part.from_uri(\n",
        "                    file_uri=video_file.uri or \"\",\n",
        "                    mime_type=video_file.mime_type or \"\"),\n",
        "            ]),\n",
        "        Content(\n",
        "            role=\"user\",\n",
        "            parts=[Part(text=prompt_template)]\n",
        "        )\n",
        "    ]\n",
        "  )\n",
        "  print(\"Video Analysis:\")\n",
        "  display(Markdown(response.text))\n"
      ],
      "metadata": {
        "id": "MOOkSl4bBNpX"
      },
      "execution_count": 14,
      "outputs": []
    },
    {
      "cell_type": "markdown",
      "source": [
        "### Get the Output"
      ],
      "metadata": {
        "id": "FgaTbqGYI2Fv"
      }
    },
    {
      "cell_type": "code",
      "source": [
        "video_tree = video_tree\n",
        "analyze_video_with_langchain(video_tree)"
      ],
      "metadata": {
        "colab": {
          "base_uri": "https://localhost:8080/",
          "height": 1000
        },
        "id": "KKnS3tUpBaVA",
        "outputId": "6b53159c-314d-40d7-c870-df94b95ed7f2"
      },
      "execution_count": 15,
      "outputs": [
        {
          "output_type": "stream",
          "name": "stdout",
          "text": [
            "Video Analysis:\n"
          ]
        },
        {
          "output_type": "display_data",
          "data": {
            "text/plain": [
              "<IPython.core.display.Markdown object>"
            ],
            "text/markdown": "```json\n[\n    {\n        \"timecode\": \"0:00\",\n        \"caption\": \"A single peanut is being placed into the soil by a pair of tweezers.\"\n     },\n     {\n        \"timecode\":\"0:01\",\n         \"caption\":\"A finger pushes the peanut down into the hole\"\n      },\n    {\n      \"timecode\": \"0:02\",\n      \"caption\": \"A white powder is being poured on top of the peanut.\"\n    },\n    {\n        \"timecode\": \"0:04\",\n      \"caption\": \"The peanut is in the soil and white text reads 'Day 1'.\"\n    },\n     {\n        \"timecode\": \"0:05\",\n        \"caption\": \"A white root is beginning to sprout. The text reads 'Day 2'.\"\n    },\n    {\n        \"timecode\": \"0:07\",\n         \"caption\": \"The root is longer and is white. The text reads 'Day 3'.\"\n    },\n     {\n       \"timecode\": \"0:09\",\n      \"caption\": \"Roots are extending down in multiple directions. The text reads 'Day 4'.\"\n    },\n    {\n        \"timecode\": \"0:10\",\n         \"caption\": \"Roots continue to extend downward and a green stem is growing up. The text reads 'Day 5'.\"\n    },\n    {\n         \"timecode\":\"0:11\",\n        \"caption\":\"A green plant is sprouting upwards. The text reads 'Day 6'.\"\n     },\n    {\n       \"timecode\":\"0:13\",\n         \"caption\":\"The green plant has multiple leaves. The text reads 'Day 7'.\"\n     },\n     {\n       \"timecode\":\"0:15\",\n         \"caption\":\"The green plant has multiple leaves. The text reads 'Day 8'.\"\n     },\n    {\n        \"timecode\":\"0:17\",\n      \"caption\":\"The green plant has many leaves. The text reads 'Day 9'.\"\n    },\n    {\n        \"timecode\": \"0:18\",\n        \"caption\":\"The green plant has many leaves. The text reads 'Day 10'.\"\n    },\n    {\n        \"timecode\":\"0:19\",\n         \"caption\":\"The plant is continuing to grow. The text reads 'Day 11'.\"\n    },\n     {\n       \"timecode\": \"0:21\",\n      \"caption\": \"The plant is bigger and the leaves are open more. The text reads 'Day 13'.\"\n     },\n      {\n       \"timecode\":\"0:22\",\n       \"caption\":\"The plant continues to grow. The text reads 'Day 15'.\"\n      },\n    {\n       \"timecode\": \"0:23\",\n        \"caption\": \"The plant is growing more rapidly. The text reads 'Day 17'.\"\n      },\n    {\n       \"timecode\":\"0:24\",\n        \"caption\":\"The plant continues to grow. The text reads 'Day 19'.\"\n    },\n    {\n       \"timecode\":\"0:25\",\n        \"caption\": \"The plant continues to grow and there are three main stems. The text reads 'Day 22'.\"\n    },\n    {\n       \"timecode\": \"0:26\",\n        \"caption\":\"The plant continues to grow. The text reads 'Day 24'.\"\n    },\n    {\n      \"timecode\":\"0:27\",\n       \"caption\":\"The plant is taller and buds are beginning to grow. The text reads 'Day 47'.\"\n     },\n     {\n      \"timecode\":\"0:28\",\n       \"caption\":\"The plant has more buds that are yellow. The text reads 'Day 48'.\"\n     },\n     {\n        \"timecode\":\"0:29\",\n         \"caption\":\"The plant has yellow and orange flowers. The text reads 'Day 49'.\"\n     },\n     {\n       \"timecode\": \"0:30\",\n       \"caption\":\"The plant has orange flowers. The text reads 'Day 50'.\"\n     },\n    {\n       \"timecode\": \"0:31\",\n        \"caption\":\"The plant continues to grow orange flowers. The text reads 'Day 51'.\"\n     },\n    {\n     \"timecode\": \"0:32\",\n     \"caption\":\"A close up of a yellow bud. The text reads 'Day 52'.\"\n    },\n      {\n      \"timecode\": \"0:33\",\n      \"caption\":\"A close up of a yellow bud. The text reads 'Day 53'.\"\n     },\n     {\n      \"timecode\": \"0:34\",\n       \"caption\":\"A close up of the yellow and orange flowers. The text reads 'Day 54'.\"\n     },\n      {\n      \"timecode\": \"0:35\",\n       \"caption\":\"A close up of a yellow and orange flower. The text reads 'Day 55'.\"\n     },\n     {\n        \"timecode\":\"0:36\",\n         \"caption\":\"A close up of the flowers on the plant. The text reads 'Day 56'.\"\n    },\n     {\n      \"timecode\": \"0:37\",\n       \"caption\":\"A close up of the plant. The text reads 'Day 57'.\"\n     },\n    {\n       \"timecode\":\"0:38\",\n        \"caption\":\"The plant is large and full of leaves. The text reads 'Day 68'.\"\n      },\n    {\n       \"timecode\":\"0:39\",\n         \"caption\":\"The plant continues to grow. The text reads 'Day 72'.\"\n    },\n    {\n       \"timecode\":\"0:40\",\n      \"caption\":\"The plant continues to grow. The text reads 'Day 76'.\"\n    },\n     {\n        \"timecode\":\"0:41\",\n      \"caption\":\"The plant continues to grow. The text reads 'Day 79'.\"\n    },\n     {\n       \"timecode\":\"0:42\",\n        \"caption\":\"The plant continues to grow. The text reads 'Day 83'.\"\n    },\n     {\n       \"timecode\":\"0:43\",\n        \"caption\":\"The plant continues to grow. The text reads 'Day 87'.\"\n     },\n    {\n        \"timecode\":\"0:44\",\n        \"caption\":\"The plant is fully grown and full. The text reads 'Day 90'.\"\n    },\n     {\n      \"timecode\":\"0:46\",\n      \"caption\": \"A knife cuts into the soil. The text reads 'Day 90'.\"\n     },\n    {\n        \"timecode\":\"0:48\",\n      \"caption\":\"A hand pulls up the plant with its roots. The text reads 'Day 90'.\"\n     },\n     {\n        \"timecode\":\"0:50\",\n        \"caption\":\"A hand is holding the peanut pod. The text reads 'Day 90'.\"\n     },\n     {\n        \"timecode\": \"0:53\",\n        \"caption\":\"A hand is holding the plant and turning it to show all sides.\"\n    },\n    {\n     \"timecode\":\"0:56\",\n        \"caption\":\"A hand is holding the plant and separating it from its soil.\"\n    }\n]\n```"
          },
          "metadata": {}
        }
      ]
    }
  ]
}